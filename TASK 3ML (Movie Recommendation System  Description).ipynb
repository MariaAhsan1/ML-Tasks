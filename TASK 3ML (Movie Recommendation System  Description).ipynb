{
 "cells": [
  {
   "cell_type": "code",
   "execution_count": 1,
   "id": "6ae75861",
   "metadata": {},
   "outputs": [],
   "source": [
    "import pandas as pd\n",
    "from sklearn.metrics.pairwise import cosine_similarity"
   ]
  },
  {
   "cell_type": "code",
   "execution_count": 3,
   "id": "62dba7ba",
   "metadata": {},
   "outputs": [
    {
     "name": "stdout",
     "output_type": "stream",
     "text": [
      "   userId  movieId  rating  timestamp\n",
      "0       1       10       4  964982703\n",
      "1       1       20       5  964981247\n",
      "2       1       30       3  964982224\n",
      "3       2       10       5  964982931\n",
      "4       2       40       4  964982400\n",
      "   movieId                     title                        genres\n",
      "0       10          Toy Story (1995)   Animation|Children's|Comedy\n",
      "1       20            Jumanji (1995)  Adventure|Children's|Fantasy\n",
      "2       30   Grumpier Old Men (1995)                Comedy|Romance\n",
      "3       40  Waiting to Exhale (1995)                         Drama\n"
     ]
    }
   ],
   "source": [
    "ratings = pd.read_csv(r\"C:\\Users\\Maria\\OneDrive\\Desktop\\python project\\ratings.csv\")\n",
    "movies  = pd.read_csv(r\"C:\\Users\\Maria\\OneDrive\\Desktop\\python project\\movies.csv\")\n",
    "\n",
    "print(ratings.head())\n",
    "print(movies.head())"
   ]
  },
  {
   "cell_type": "code",
   "execution_count": 4,
   "id": "1f1cbeb6",
   "metadata": {},
   "outputs": [],
   "source": [
    "user_item_matrix = ratings.pivot_table(index=\"userId\", columns=\"movieId\", values=\"rating\")\n"
   ]
  },
  {
   "cell_type": "code",
   "execution_count": 5,
   "id": "49d342df",
   "metadata": {},
   "outputs": [],
   "source": [
    "matrix_filled = user_item_matrix.fillna(0)"
   ]
  },
  {
   "cell_type": "code",
   "execution_count": 7,
   "id": "bd82daf7",
   "metadata": {},
   "outputs": [],
   "source": [
    "user_similarity = cosine_similarity(matrix_filled)\n",
    "user_similarity_df = pd.DataFrame(user_similarity, index=user_item_matrix.index, columns=user_item_matrix.index)\n"
   ]
  },
  {
   "cell_type": "code",
   "execution_count": 8,
   "id": "f15585f8",
   "metadata": {},
   "outputs": [],
   "source": [
    "def recommend_movies(user_id, top_n=5):\n",
    "    # Find similar users\n",
    "    similar_users = user_similarity_df[user_id].sort_values(ascending=False)\n",
    "    similar_users = similar_users.drop(user_id)\n"
   ]
  },
  {
   "cell_type": "code",
   "execution_count": 10,
   "id": "ad3cf684",
   "metadata": {},
   "outputs": [],
   "source": [
    "user_id = 1\n",
    "\n",
    "# Find similar users to this user\n",
    "similar_users = user_similarity_df[user_id].sort_values(ascending=False)\n"
   ]
  },
  {
   "cell_type": "code",
   "execution_count": 11,
   "id": "18982da2",
   "metadata": {},
   "outputs": [
    {
     "name": "stdout",
     "output_type": "stream",
     "text": [
      "Most similar user to 1 is 3\n"
     ]
    }
   ],
   "source": [
    "similar_users = similar_users.drop(user_id)\n",
    "\n",
    "# Now you can safely get the top user\n",
    "top_user = similar_users.index[0]\n",
    "print(\"Most similar user to\", user_id, \"is\", top_user)"
   ]
  },
  {
   "cell_type": "code",
   "execution_count": 12,
   "id": "b7e45f02",
   "metadata": {},
   "outputs": [],
   "source": [
    "seen_movies = set(ratings[ratings.userId == user_id].movieId)"
   ]
  },
  {
   "cell_type": "code",
   "execution_count": 13,
   "id": "fd3c26b7",
   "metadata": {},
   "outputs": [],
   "source": [
    "candidate_movies = ratings[(ratings.userId == top_user) & (~ratings.movieId.isin(seen_movies))]\n"
   ]
  },
  {
   "cell_type": "code",
   "execution_count": 14,
   "id": "dc43fc11",
   "metadata": {},
   "outputs": [
    {
     "name": "stdout",
     "output_type": "stream",
     "text": [
      "Empty DataFrame\n",
      "Columns: [title, rating]\n",
      "Index: []\n"
     ]
    }
   ],
   "source": [
    "# Top movies by rating\n",
    "top_movies = candidate_movies.sort_values(by=\"rating\", ascending=False).head(5)\n",
    "\n",
    "# Add titles\n",
    "recommendations = pd.merge(top_movies, movies, on=\"movieId\")[[\"title\", \"rating\"]]\n",
    "print(recommendations)"
   ]
  },
  {
   "cell_type": "code",
   "execution_count": 15,
   "id": "8dd3b120",
   "metadata": {},
   "outputs": [
    {
     "name": "stdout",
     "output_type": "stream",
     "text": [
      "Recommendations for User 1:\n",
      "None\n"
     ]
    }
   ],
   "source": [
    "print(\"Recommendations for User 1:\")\n",
    "print(recommend_movies(user_id=1, top_n=5))"
   ]
  },
  {
   "cell_type": "code",
   "execution_count": null,
   "id": "49fb4496",
   "metadata": {},
   "outputs": [],
   "source": []
  }
 ],
 "metadata": {
  "kernelspec": {
   "display_name": "Python 3 (ipykernel)",
   "language": "python",
   "name": "python3"
  },
  "language_info": {
   "codemirror_mode": {
    "name": "ipython",
    "version": 3
   },
   "file_extension": ".py",
   "mimetype": "text/x-python",
   "name": "python",
   "nbconvert_exporter": "python",
   "pygments_lexer": "ipython3",
   "version": "3.9.13"
  }
 },
 "nbformat": 4,
 "nbformat_minor": 5
}
